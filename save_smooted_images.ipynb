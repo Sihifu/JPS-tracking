{
 "cells": [
  {
   "cell_type": "code",
   "execution_count": 1,
   "metadata": {},
   "outputs": [],
   "source": [
    "import numpy as np\n",
    "import cv2 as cv\n",
    "import os\n",
    "\n"
   ]
  },
  {
   "cell_type": "code",
   "execution_count": 2,
   "metadata": {},
   "outputs": [],
   "source": [
    "data_folder=\"data/Gute_aufnahme_shortened\"\n"
   ]
  },
  {
   "cell_type": "code",
   "execution_count": 3,
   "metadata": {},
   "outputs": [],
   "source": [
    "dest_folder=os.path.join(data_folder,\"smoothed_images_array\")\n",
    "stream_string_smooth=[]\n",
    "os.makedirs(dest_folder,exist_ok=True)\n",
    "stream_string=np.load(os.path.join(data_folder,\"image_paths.npy\"))\n",
    "for j,img_path in enumerate(stream_string):\n",
    "    img_smooth=cv.GaussianBlur(cv.imread(img_path,cv.IMREAD_COLOR), ksize=(3,3), sigmaX=0)\n",
    "    dest_path=os.path.join(dest_folder,\"smoothed_image_\"+str(j).zfill(int(np.floor(np.log10(len(stream_string)-1)))+1)+\".npy\")\n",
    "    stream_string_smooth.append(dest_path)\n",
    "    np.save(dest_path,img_smooth)\n",
    "stream_string_smooth=np.array(stream_string_smooth)\n"
   ]
  },
  {
   "cell_type": "code",
   "execution_count": null,
   "metadata": {},
   "outputs": [],
   "source": [
    "np.save(os.path.join(data_folder,\"image_paths_smooth.npy\"),stream_string_smooth)"
   ]
  }
 ],
 "metadata": {
  "kernelspec": {
   "display_name": "venv",
   "language": "python",
   "name": "python3"
  },
  "language_info": {
   "codemirror_mode": {
    "name": "ipython",
    "version": 3
   },
   "file_extension": ".py",
   "mimetype": "text/x-python",
   "name": "python",
   "nbconvert_exporter": "python",
   "pygments_lexer": "ipython3",
   "version": "3.9.6"
  }
 },
 "nbformat": 4,
 "nbformat_minor": 2
}
