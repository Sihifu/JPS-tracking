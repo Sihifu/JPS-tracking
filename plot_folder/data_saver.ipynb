{
 "cells": [
  {
   "cell_type": "code",
   "execution_count": 1,
   "metadata": {},
   "outputs": [],
   "source": [
    "import sys\n",
    "sys.path.append(\"..\")  # Adds the parent directory to the sys.path\n",
    "\n",
    "import numpy as np\n",
    "from confectionery import Confectionery\n",
    "from cluster_half_shelfs_alpha import Half_shelf_cluster"
   ]
  },
  {
   "cell_type": "markdown",
   "metadata": {},
   "source": [
    "# load data"
   ]
  },
  {
   "cell_type": "code",
   "execution_count": 2,
   "metadata": {},
   "outputs": [
    {
     "data": {
      "text/plain": [
       "987"
      ]
     },
     "execution_count": 2,
     "metadata": {},
     "output_type": "execute_result"
    }
   ],
   "source": [
    "obj_0=my_data = np.genfromtxt('/Users/Hoang_1/Desktop/Master_Arbeit/software/janus_particle_tracking/object_0_trajectory.csv', delimiter=',')\n",
    "obj_0=obj_0[1:,:]\n",
    "start_frame=0\n",
    "end_frame=obj_0.shape[0]-1\n",
    "stream_string=[]\n",
    "for i in range(start_frame,end_frame+1):\n",
    "    im_path=\"/Users/Hoang_1/Desktop/Master_Arbeit/software/janus_particle_tracking/Image_Data/Aufnahmen_JPEG_06_07_take_2/Hoang_07_06_2023_Aufnahmen_Rollen_Partikel_Rollen_12_mu_200_002_t\"+str(i).zfill(3)+\".jpg\"\n",
    "    stream_string.append(im_path)\n",
    "stream_string=np.array(stream_string)\n",
    "\n",
    "koppenrath=Confectionery()\n",
    "r_effective=11\n",
    "half_shelf_cluster=Half_shelf_cluster(obj_0, stream_string, confectionery=koppenrath,cut_radius=r_effective)\n",
    "half_shelf_cluster.load_data_initial(frame_portion=1.0)\n"
   ]
  },
  {
   "cell_type": "markdown",
   "metadata": {},
   "source": [
    "# save data"
   ]
  },
  {
   "cell_type": "code",
   "execution_count": 3,
   "metadata": {},
   "outputs": [],
   "source": [
    "folder=\"/Users/Hoang_1/Desktop/Master_Arbeit/software/janus_particle_tracking/plot_folder/data/\"\n",
    "np.save(folder+str(\"im_stream_obj_0\"),stream_string)\n",
    "np.save(folder+str(\"obj_0\"),obj_0)\n",
    "np.save(folder+str(\"obj_0_all_grayscale_on_radius_\"+str(r_effective)),half_shelf_cluster.data)"
   ]
  }
 ],
 "metadata": {
  "kernelspec": {
   "display_name": "venv",
   "language": "python",
   "name": "python3"
  },
  "language_info": {
   "codemirror_mode": {
    "name": "ipython",
    "version": 3
   },
   "file_extension": ".py",
   "mimetype": "text/x-python",
   "name": "python",
   "nbconvert_exporter": "python",
   "pygments_lexer": "ipython3",
   "version": "3.9.6"
  },
  "orig_nbformat": 4
 },
 "nbformat": 4,
 "nbformat_minor": 2
}
