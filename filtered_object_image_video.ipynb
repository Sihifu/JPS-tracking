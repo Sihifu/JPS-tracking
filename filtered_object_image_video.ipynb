{
 "cells": [
  {
   "cell_type": "code",
   "execution_count": 21,
   "metadata": {},
   "outputs": [],
   "source": [
    "import numpy as np\n",
    "import cv2 as cv\n",
    "from PIL import Image, ImageDraw\n",
    "from matplotlib import pyplot as plt\n"
   ]
  },
  {
   "cell_type": "code",
   "execution_count": 22,
   "metadata": {},
   "outputs": [],
   "source": [
    "im_obj_original=np.load(\"data/data_structured.npy\").astype(np.uint8)\n",
    "im_obj_filtered=np.load(\"data/data_structured_spatial_temporal_filtered.npy\").astype(np.uint8)"
   ]
  },
  {
   "cell_type": "code",
   "execution_count": 23,
   "metadata": {},
   "outputs": [],
   "source": [
    "\n",
    "video_name = '/Users/Hoang_1/Desktop/Master_Arbeit/software/janus_particle_tracking/Video_Data/filtered_object.avi'\n",
    "# set frames per second\n",
    "fps=15\n",
    "height=im_obj_filtered.shape[1]\n",
    "width=2*height+1\n",
    "video = cv.VideoWriter(video_name, 0, fps, (width,height),isColor=True)\n",
    "for current_frame_number in range(im_obj_filtered.shape[0]):\n",
    "    illustration = Image.new(\"L\", (width, height))\n",
    "    Im_left=Image.fromarray(im_obj_original[current_frame_number,:,:], mode='L')\n",
    "    Im_right=Image.fromarray(im_obj_filtered[current_frame_number,:,:], mode='L')\n",
    "    illustration.paste(Im_left, (0, 0))  \n",
    "    illustration.paste(Im_right, (Im_left.width+1, 0))  \n",
    "    illustration=illustration.convert(\"RGB\")\n",
    "    draw = ImageDraw.Draw(illustration)\n",
    "\n",
    "    step_length=70\n",
    "    for i in np.arange(0,height,2*step_length):\n",
    "        draw.line(\n",
    "            [(Im_left.width, i), (Im_left.width,i+step_length)],\n",
    "            fill=\"yellow\",\n",
    "            width=1,\n",
    "        )\n",
    "    illustration=np.array(illustration)\n",
    "    illustration=illustration[:,:,::-1]\n",
    "    video.write(illustration)\n",
    "\n",
    "cv.destroyAllWindows()\n",
    "video.release()\n",
    "\n",
    "\n"
   ]
  }
 ],
 "metadata": {
  "kernelspec": {
   "display_name": "venv",
   "language": "python",
   "name": "python3"
  },
  "language_info": {
   "codemirror_mode": {
    "name": "ipython",
    "version": 3
   },
   "file_extension": ".py",
   "mimetype": "text/x-python",
   "name": "python",
   "nbconvert_exporter": "python",
   "pygments_lexer": "ipython3",
   "version": "3.9.6"
  },
  "orig_nbformat": 4
 },
 "nbformat": 4,
 "nbformat_minor": 2
}
